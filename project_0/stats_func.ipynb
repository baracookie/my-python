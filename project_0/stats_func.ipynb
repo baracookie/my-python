{
 "cells": [
  {
   "cell_type": "code",
   "execution_count": 2,
   "metadata": {},
   "outputs": [],
   "source": [
    "import project_0.stats_func_v2 as stats_func_v2"
   ]
  },
  {
   "cell_type": "code",
   "execution_count": 1,
   "metadata": {},
   "outputs": [
    {
     "name": "stdout",
     "output_type": "stream",
     "text": [
      "Статистические результаты:\n",
      "Mean: 5.454545454545454\n",
      "Median: 5.0\n",
      "Std_dev: 2.7423823870906103\n",
      "Mode: 5\n",
      "Range: 9\n",
      "Отфильтрованные данные (больше среднего): [ 6  7  8  9 10]\n"
     ]
    },
    {
     "data": {
      "text/plain": [
       "{'mean': np.float64(104.5),\n",
       " 'median': np.float64(104.5),\n",
       " 'std_dev': np.float64(57.73430522661548),\n",
       " 'mode': np.int64(5),\n",
       " 'range': np.int64(199)}"
      ]
     },
     "execution_count": 1,
     "metadata": {},
     "output_type": "execute_result"
    }
   ],
   "source": [
    "from project_0.stats_func_v2 import calculate_statistics\n",
    "from project_0.stats_func_v2 import filter_greater_than_mean\n",
    "calculate_statistics(range(5, 205))"
   ]
  },
  {
   "cell_type": "code",
   "execution_count": 3,
   "metadata": {},
   "outputs": [],
   "source": [
    "from project_0.stats_func_v2 import calculate_statistics, filter_greater_than_mean"
   ]
  },
  {
   "cell_type": "code",
   "execution_count": 5,
   "metadata": {},
   "outputs": [
    {
     "ename": "SyntaxError",
     "evalue": "invalid syntax (1584964254.py, line 1)",
     "output_type": "error",
     "traceback": [
      "\u001b[1;36m  Cell \u001b[1;32mIn[5], line 1\u001b[1;36m\u001b[0m\n\u001b[1;33m    git config --global user.name \"baracookie\"\u001b[0m\n\u001b[1;37m        ^\u001b[0m\n\u001b[1;31mSyntaxError\u001b[0m\u001b[1;31m:\u001b[0m invalid syntax\n"
     ]
    }
   ],
   "source": [
    "git config --global user.name \"baracookie\"\n",
    "git config --global user.email moyaxzaya@gmail.com"
   ]
  },
  {
   "cell_type": "code",
   "execution_count": null,
   "metadata": {},
   "outputs": [
    {
     "ename": "SyntaxError",
     "evalue": "invalid syntax (3648403977.py, line 1)",
     "output_type": "error",
     "traceback": [
      "\u001b[1;36m  Cell \u001b[1;32mIn[1], line 1\u001b[1;36m\u001b[0m\n\u001b[1;33m    git config --global user.email \"moyaxzaya@gmail.com\"\u001b[0m\n\u001b[1;37m        ^\u001b[0m\n\u001b[1;31mSyntaxError\u001b[0m\u001b[1;31m:\u001b[0m invalid syntax\n"
     ]
    }
   ],
   "source": [
    "git config --global user.email \"moyaxzaya@gmail.com\"\n",
    "git config --global user.name \"baracookie\"\n"
   ]
  }
 ],
 "metadata": {
  "kernelspec": {
   "display_name": "Python 3",
   "language": "python",
   "name": "python3"
  },
  "language_info": {
   "codemirror_mode": {
    "name": "ipython",
    "version": 3
   },
   "file_extension": ".py",
   "mimetype": "text/x-python",
   "name": "python",
   "nbconvert_exporter": "python",
   "pygments_lexer": "ipython3",
   "version": "3.13.2"
  }
 },
 "nbformat": 4,
 "nbformat_minor": 2
}
